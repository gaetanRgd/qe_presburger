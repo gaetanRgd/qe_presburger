{
 "cells": [
  {
   "cell_type": "markdown",
   "metadata": {},
   "source": [
    "# Intro"
   ]
  },
  {
   "cell_type": "code",
   "execution_count": 1,
   "metadata": {},
   "outputs": [],
   "source": [
    "from pysmt.shortcuts import Not, And, Or, Symbol, TRUE, FALSE\n",
    "from pysmt.shortcuts import GE, LE, LT, GT, Equals, Plus, Times, Real\n",
    "from pysmt.shortcuts import Solver, Real\n",
    "from pysmt.typing import REAL, INT\n",
    "\n",
    "import numpy as np"
   ]
  },
  {
   "cell_type": "code",
   "execution_count": 2,
   "metadata": {},
   "outputs": [],
   "source": [
    "from sage.all import Polyhedron"
   ]
  },
  {
   "cell_type": "code",
   "execution_count": 3,
   "metadata": {},
   "outputs": [
    {
     "data": {
      "text/plain": [
       "'(! ((! (x <= 3.0)) & (! (y < 1.0)) & (y <= 2.0) & ((! (y < 3.0)) | (y < 2.0))))'"
      ]
     },
     "execution_count": 3,
     "metadata": {},
     "output_type": "execute_result"
    }
   ],
   "source": [
    "x = Symbol(\"x\",REAL)\n",
    "y = Symbol(\"y\",REAL)\n",
    "z = Symbol(\"z\",REAL)\n",
    "\n",
    "\n",
    "# formula = Not(And(Not(LE(x,Real(3))), GE(y,Real(1)), LE(y,Real(2)), Or(GE(y,Real(3)), LE(y,Real(2)))))\n",
    "formula = Not(And(Not(LE(x,Real(3))), Not(LT(y,Real(1))), LE(y,Real(2)), Or(Not(LT(y,Real(3))), LT(y,Real(2)))))\n",
    "formula.serialize()"
   ]
  },
  {
   "cell_type": "markdown",
   "metadata": {},
   "source": [
    "# Conversions"
   ]
  },
  {
   "cell_type": "code",
   "execution_count": 4,
   "metadata": {},
   "outputs": [],
   "source": [
    "def inv(l):\n",
    "    '''\n",
    "    Invert each element of a list\n",
    "\n",
    "    :param l: a list\n",
    "    :return: a list\n",
    "    '''\n",
    "\n",
    "    return [-i for i in list(l)]\n",
    "\n",
    "\n",
    "def H_to_array(P):\n",
    "    '''\n",
    "    Convert a polyhedron  P into two arrays A,b\n",
    "    such that P = {x | Ax >= b}\n",
    "\n",
    "    :param P: Polyhedron()\n",
    "    :return: (A=np.array,b=np.array)\n",
    "    '''\n",
    "\n",
    "    H =  P.Hrepresentation()\n",
    "    A = []\n",
    "    b = []\n",
    "    for ieq in H:\n",
    "        if ieq.is_inequality():\n",
    "            A.append(list(ieq.A()))\n",
    "            b.append(ieq.b())\n",
    "        elif ieq.is_equation():\n",
    "            inv(list(ieq.A()))\n",
    "            A.append(list(ieq.A()))\n",
    "            A.append(inv(list(ieq.A())))\n",
    "            b.append(ieq.b())\n",
    "            b.append(-ieq.b())\n",
    "    return (np.array(A),np.array(b))\n",
    "\n",
    "\n",
    "def array_to_H(A,b):\n",
    "    '''\n",
    "    Convert two arrays A,b into a polyhedron P\n",
    "    such that P = {x | Ax >= b}\n",
    "\n",
    "    :param A: np.array\n",
    "    :param b: np.array\n",
    "    :return: Polyhedron()\n",
    "    '''\n",
    "\n",
    "    assert(len(A)==len(b))\n",
    "    return Polyhedron(ieqs=[[b[i]] + list(A[i]) for i in range(len(A))])"
   ]
  },
  {
   "cell_type": "code",
   "execution_count": 5,
   "metadata": {},
   "outputs": [
    {
     "name": "stdout",
     "output_type": "stream",
     "text": [
      "(An inequality (-1, 0, 0) x + 0 >= 0, An inequality (0, -1, 0) x + 5 >= 0, An inequality (0, 1, -1) x - 1 >= 0, An inequality (1, 0, -1) x + 5 >= 0)\n",
      "(An inequality (0, 1, -3, 0) x + 0 >= 0, An inequality (2, 1, 15, 0) x + 1 >= 0)\n",
      "(((0.0 <= 0.0) & (! ((('0' * 1.0) + ('1' * 0.0)) < -1.0))) & (! ((('0' * 4.0) + ('1' * 7.0)) < -2.0)))\n"
     ]
    }
   ],
   "source": [
    "def sage_to_pysmt(P):\n",
    "    '''\n",
    "    Convert a polyhedron in Sage into its corresponding formula for pysmt\n",
    "\n",
    "    :param P: Polyhedron\n",
    "    :return: fNode\n",
    "    '''\n",
    "\n",
    "    A,b = H_to_array(P)\n",
    "    \n",
    "    if len(A) == 0: # the polyhedron is the entire space\n",
    "        return TRUE()\n",
    "\n",
    "    n = len(A[0])\n",
    "    variables = [Symbol(str(s),REAL) for s in range(n)]\n",
    "\n",
    "    formula = LE(Real(0),Real(0)) # ???\n",
    "    for i in range(len(A)):\n",
    "        la = A[i]\n",
    "        new_v = []\n",
    "        for j in range(n):\n",
    "            v = variables[j]\n",
    "            new_v.append(Times(v,Real(float(la[j]))))\n",
    "        formula = And(formula,\n",
    "                      Not(LT(Plus(new_v),\n",
    "                             Real(float(-b[i])))))\n",
    "\n",
    "    return formula\n",
    "\n",
    "def get_coeff(a,v):\n",
    "    '''\n",
    "    Return an array suitable for sage that can be interpreted as an inequality\n",
    "\n",
    "    :param a: atom of type fNode\n",
    "    :param variables: list of Symbol\n",
    "    :return: list of value\n",
    "    '''\n",
    "    \n",
    "    coeffs = [0 for i in range(len(v)+1)]\n",
    "    if a.is_symbol():\n",
    "        for i in range(1,len(v)+1):\n",
    "            if a == v[i-1]:\n",
    "                coeffs[i] = 1\n",
    "    elif a.is_plus():\n",
    "        l_t = []\n",
    "        for t in a.args():\n",
    "            l_t.append(get_coeff(t,v))\n",
    "        for i in range(len(v)+1):\n",
    "            for l in l_t:\n",
    "                coeffs[i] +=l[i]\n",
    "    elif a.is_times():\n",
    "        l_t = []\n",
    "        for t in a.args():\n",
    "            l_t.append(get_coeff(t,v))\n",
    "        coeffs = l_t.pop()\n",
    "        while l_t != []:\n",
    "            u = l_t.pop()\n",
    "            if coeffs[0] == 0:\n",
    "                for i in range(1,len(v)+1):\n",
    "                    if u[i] != 0:\n",
    "                        coeffs[i] = u[i] * coeffs[0]\n",
    "                        coeffs[0] = 0\n",
    "                coeffs[0] *= u[0]\n",
    "            else:\n",
    "                for i in range(1,len(v)+1):\n",
    "                    coeffs[i] = u[i] * coeffs[0]\n",
    "                    if u[i] != 0:\n",
    "                        coeffs[0] = 0\n",
    "                coeffs[0] *= u[0]\n",
    "    else:\n",
    "        coeffs[0] = int(a.constant_value())\n",
    "\n",
    "    return coeffs\n",
    "\n",
    "\n",
    "def pysmt_to_sage(f):\n",
    "    '''\n",
    "    Convert a formula that is a disjunction into its corresponding polyhedron in Sage\n",
    "\n",
    "    :param f: fNode \n",
    "    :return: Polyhedron\n",
    "    '''\n",
    "    \n",
    "    variables = list(f.get_free_variables()) + [Symbol(\"delta\",REAL)]\n",
    "    n = len(variables)\n",
    "    ieqs = []\n",
    "    atoms = [f]\n",
    "    if f.is_and():\n",
    "        atoms = f.args()\n",
    "\n",
    "    for a in atoms:\n",
    "        left = get_coeff(a.args()[0],variables)\n",
    "        right = get_coeff(a.args()[1],variables)\n",
    "        if a.is_le():\n",
    "            for i in range(len(right)):\n",
    "                right[i] -= left[i]\n",
    "            ieqs.append(right)\n",
    "        if a.is_lt():\n",
    "            for i in range(len(left)):\n",
    "                right[i] -= left[i]\n",
    "                right[-1] = -1\n",
    "            ieqs.append(right)\n",
    "            \n",
    "    return Polyhedron(ieqs=ieqs)\n",
    "\n",
    "\n",
    "print(pysmt_to_sage(\n",
    "      And(LE(x,\n",
    "             Real(0)),\n",
    "          LT(Real(-5),\n",
    "             x),\n",
    "          LE(y,\n",
    "             Real(5)),\n",
    "          LT(Real(float(1)),\n",
    "             y))).Hrepresentation())\n",
    "print(pysmt_to_sage(And(LE(Times(z,Real(3)),y), GE(Plus(Times(z,Real(5),Real(3)),y,Plus(x,x)),Real(-1)))).Hrepresentation())\n",
    "print(sage_to_pysmt(Polyhedron(ieqs=[[1,1,0],[2,4,7]])).serialize())"
   ]
  },
  {
   "cell_type": "markdown",
   "metadata": {},
   "source": [
    "# DDNF from the formula to Sage"
   ]
  },
  {
   "cell_type": "code",
   "execution_count": 6,
   "metadata": {},
   "outputs": [
    {
     "name": "stdout",
     "output_type": "stream",
     "text": [
      "(! ((! (x <= 3.0)) & (! (y < 1.0)) & (y <= 2.0) & ((! (y < 3.0)) | (y < 2.0))))\n"
     ]
    },
    {
     "data": {
      "text/plain": [
       "([4.0], [5/2])"
      ]
     },
     "execution_count": 6,
     "metadata": {},
     "output_type": "execute_result"
    }
   ],
   "source": [
    "def get_subsolution(formula,variables):\n",
    "    '''\n",
    "    Give values for a subset of variables that satisfies the formula\n",
    "\n",
    "    :param formula: FNode\n",
    "    :param variables: list of Symbol\n",
    "    :return: None if the formula is not sat and a list of Real for each variable\n",
    "    '''\n",
    "\n",
    "    model = []\n",
    "    with Solver() as solver:\n",
    "        solver.add_assertion(formula)\n",
    "        solver.solve()\n",
    "        if solver.solve():\n",
    "            for v in variables:\n",
    "                model.append(solver.get_value(v))\n",
    "            return model\n",
    "        else:\n",
    "            return None\n",
    "\n",
    "print(formula.serialize())\n",
    "get_subsolution(formula,[x]), get_subsolution(formula,[y])"
   ]
  },
  {
   "cell_type": "code",
   "execution_count": 7,
   "metadata": {},
   "outputs": [
    {
     "data": {
      "text/plain": [
       "(((! (x <= 3.0)), (! (y < 1.0)), (y <= 2.0), ((! (y < 3.0)) | (y < 2.0))),\n",
       " True,\n",
       " False)"
      ]
     },
     "execution_count": 7,
     "metadata": {},
     "output_type": "execute_result"
    }
   ],
   "source": [
    "list(formula.args())[0].args(), list(formula.args())[0].is_and(), list(formula.args())[0].is_or()"
   ]
  },
  {
   "cell_type": "code",
   "execution_count": 8,
   "metadata": {},
   "outputs": [
    {
     "name": "stdout",
     "output_type": "stream",
     "text": [
      "formula: (! ((! (x <= 3.0)) & (! (y < 1.0)) & (y <= 2.0) & ((! (y < 3.0)) | (y < 2.0))))\n",
      "nnf: ((x <= 3.0) | (y < 1.0) | (! (y <= 2.0)) | ((y < 3.0) & (! (y < 2.0))))\n"
     ]
    }
   ],
   "source": [
    "def nnf(formula):\n",
    "    '''\n",
    "    Compute the negative normal form of a formula\n",
    "\n",
    "    :param formula: fNode\n",
    "    :return: fNode\n",
    "    '''\n",
    "\n",
    "    if formula.is_and():\n",
    "        return And([nnf(sf) for sf in formula.args()])\n",
    "    elif formula.is_or():\n",
    "        return Or([nnf(sf) for sf in formula.args()])\n",
    "    elif formula.is_not():\n",
    "        nf = list(formula.args())[0]\n",
    "        if nf.is_and():\n",
    "            return Or([nnf(Not(sf)) for sf in nf.args()])\n",
    "        elif nf.is_or():\n",
    "            return And([nnf(Not(sf)) for sf in nf.args()])\n",
    "        elif nf.is_not():\n",
    "            return nnf(list(nf.args())[0])\n",
    "        elif nf.is_le() or nf.is_lt():\n",
    "            return formula\n",
    "        elif nf.is_false:\n",
    "            return TRUE\n",
    "        elif nf.is_true:\n",
    "            return FALSE\n",
    "        else:\n",
    "            print(\"Error no operator found\", formula)\n",
    "            assert(False)\n",
    "    else:\n",
    "        return formula\n",
    "\n",
    "\n",
    "\n",
    "print(\"formula:\",formula.serialize())\n",
    "print(\"nnf:\",nnf(formula).serialize())"
   ]
  },
  {
   "cell_type": "code",
   "execution_count": 9,
   "metadata": {},
   "outputs": [
    {
     "name": "stdout",
     "output_type": "stream",
     "text": [
      "((x < 0.0) & ((! (x <= 2.0)) | (! (y <= 2.0)) | (x < 2.0)) & ((y < 2.0) | (y <= 2.0))) [x, y]\n",
      "[-1.0, 0.0]\n"
     ]
    },
    {
     "data": {
      "text/plain": [
       "[(x < 0.0), (x < 2.0), (y < 2.0)]"
      ]
     },
     "execution_count": 9,
     "metadata": {},
     "output_type": "execute_result"
    }
   ],
   "source": [
    "def check(formula, variables=[], model=[]):\n",
    "    '''\n",
    "    Model-check and sat a formula for a subset of variables\n",
    "\n",
    "    :param formula: fNode\n",
    "    :param variables: list of Symbol\n",
    "    :param model: list of Real\n",
    "    :return: bool\n",
    "    '''\n",
    "\n",
    "    assert(len(variables) == len(model))\n",
    "    with Solver() as solver:\n",
    "        solver.add_assertion(formula)\n",
    "        for i in range(len(variables)):\n",
    "            solver.add_assertion(Equals(variables[i],model[i]))\n",
    "        return solver.solve()\n",
    "\n",
    "def get_true_atoms(formula, variables, p):\n",
    "    '''\n",
    "    Compute a subset of atoms that p satisfies in the formula such that this subset is enough to satisfy the formula\n",
    "\n",
    "    :param formula: fNode\n",
    "    :param variables: list of Symbol\n",
    "    :param p: list of Real\n",
    "    :return: list of fNode\n",
    "    '''\n",
    "\n",
    "    if formula.is_and():\n",
    "        atoms = []\n",
    "        for sf in formula.args():\n",
    "            rec = get_true_atoms(sf, variables, p)\n",
    "            if rec == []:\n",
    "                return []\n",
    "            else:\n",
    "                atoms += rec\n",
    "        return atoms\n",
    "    elif formula.is_or():\n",
    "        for sf in formula.args():\n",
    "            atoms = get_true_atoms(sf, variables, p)\n",
    "            if atoms != []:\n",
    "                return atoms\n",
    "        return []\n",
    "    elif formula.is_le() or formula.is_lt():\n",
    "        if check(formula, variables, p):\n",
    "            return [formula]\n",
    "        else:\n",
    "            return []\n",
    "    elif formula.is_not():\n",
    "        nf = formula.args()[0]\n",
    "        if nf.is_le():\n",
    "            if check(formula, variables, p):\n",
    "                left = nf.args()[1]\n",
    "                right = nf.args()[0]\n",
    "                return [LT(left,right)]\n",
    "            else:\n",
    "                return []\n",
    "        elif nf.is_lt():\n",
    "            if check(formula, variables, p):\n",
    "                left = nf.args()[1]\n",
    "                right = nf.args()[0]\n",
    "                return [LE(left,right)]\n",
    "            else:\n",
    "                return []\n",
    "        else:\n",
    "            print(\"Error, formula must be in nnf\")\n",
    "            assert(False)\n",
    "    else:\n",
    "        print(\"Error no operator found\")\n",
    "        assert(False)\n",
    "\n",
    "formula = And(LT(x,Real(0)), Or(Not(LE(x,Real(2))), Not(LE(y,Real(2))), LT(x,Real(2))), Or(LT(y,Real(2)), LE(y,Real(2))))\n",
    "formula = nnf(formula)\n",
    "variables = [x,y]\n",
    "print(formula, variables)\n",
    "print(get_subsolution(formula,variables))\n",
    "get_true_atoms(formula, variables, get_subsolution(formula,variables))"
   ]
  },
  {
   "cell_type": "code",
   "execution_count": 10,
   "metadata": {},
   "outputs": [
    {
     "name": "stdout",
     "output_type": "stream",
     "text": [
      "((((x <= 0.0) & (! (y < 1.0))) | ((x < -2.0) & (y < 1.0))) & ((x <= 0.0) & (! (x <= -5.0)) & (y <= 5.0) & (! (y <= -5.0))))\n",
      "(An inequality (-1, 0, -1) x - 2 >= 0, An inequality (-1, 0, 0) x + 0 >= 0, An inequality (0, -1, -1) x + 1 >= 0, An inequality (0, -1, 0) x + 5 >= 0, An inequality (0, 1, -1) x + 5 >= 0, An inequality (1, 0, -1) x + 5 >= 0)\n",
      "\n",
      "(An inequality (-1, 0, 0) x + 0 >= 0, An inequality (0, -1, 0) x + 5 >= 0, An inequality (1, 0, -1) x + 5 >= 0, An inequality (0, 1, 0) x - 1 >= 0)\n",
      "\n",
      "(An inequality (-1, 0) x + 0 >= 0,)\n",
      "(An inequality (1, -1) x + 0 >= 0,)\n"
     ]
    },
    {
     "data": {
      "text/plain": [
       "[A 2-dimensional polyhedron in QQ^2 defined as the convex hull of 1 vertex, 1 ray, 1 line,\n",
       " A 2-dimensional polyhedron in QQ^2 defined as the convex hull of 1 vertex, 1 ray, 1 line]"
      ]
     },
     "execution_count": 10,
     "metadata": {},
     "output_type": "execute_result"
    }
   ],
   "source": [
    "def ddnf(formula, variables):\n",
    "    '''\n",
    "    Compute a set of disjoint polyedra (when we project over all components exept the last one) equivalent to the formula\n",
    "\n",
    "    :param formula: fNode\n",
    "    :param variables: list of Symbol\n",
    "    :return: list of Polyhedron\n",
    "    '''\n",
    "\n",
    "    poly = []\n",
    "    while check(formula):\n",
    "        f = nnf(formula)\n",
    "        atoms = And(get_true_atoms(f, variables, get_subsolution(f,variables)))\n",
    "        poly.append(pysmt_to_sage(atoms))\n",
    "        formula = And(formula, Not(atoms))\n",
    "    return poly\n",
    "\n",
    "\n",
    "\n",
    "formula = And(Or(And(LE(x,Real(0)), Not(LT(y,Real(1)))),\n",
    "                 And(LT(x,Real(-2)), LT(y,Real(1)))),\n",
    "              And(LE(x, Real(0)), Not(LE(x, Real(-5))),LE(y,Real(5)), Not(LE(y, Real(-5)))))\n",
    "print(formula.serialize())\n",
    "for P in ddnf(formula,variables):\n",
    "    print(P.Hrepresentation())\n",
    "    print()\n",
    "for P in ddnf(Not(And(LE(x,Real(0)),Not(LE(x,Real(0))))),variables):\n",
    "    print(P.Hrepresentation())\n",
    "ddnf(Not(And(LE(x,Real(0)),Not(LE(x,Real(0))))),variables)\n"
   ]
  },
  {
   "cell_type": "markdown",
   "metadata": {},
   "source": [
    "# Quantifier elimination"
   ]
  },
  {
   "cell_type": "code",
   "execution_count": 11,
   "metadata": {},
   "outputs": [
    {
     "name": "stdout",
     "output_type": "stream",
     "text": [
      "minimal faces:\n",
      "P_full_space: [[(0, 0), [(0, 1), (1, 0)]]]\n",
      "P_half_space: [[(-1, 0), [(0, 1)]]]\n",
      "P_line: [[(0, -1), [(1, -1)]]]\n",
      "P_half_line: [[(-1, 1), []]]\n",
      "P_polytope: [[(-5, 1, 4), []], [(0, 0, 0), []], [(1, 5, 3), []], [(4, 8, 7), []]]\n"
     ]
    }
   ],
   "source": [
    "def minimal_faces(P):\n",
    "    '''\n",
    "    Compute a representation of the minimal faces of a polyhedron P\n",
    "    :param P: Polyhedron\n",
    "    :return: list of (p=array, l=list of array) with p a point and l a basis of a span\n",
    "    '''\n",
    "\n",
    "    return [[p.vector(), [v.vector() for v in P.lines()]] for p in P.vertices()]\n",
    "\n",
    "P_full_space = Polyhedron(vertices=[[9,41]],lines=[[41,-3],[7,7]])\n",
    "P_half_space = Polyhedron(ieqs=[[1,1,0]])\n",
    "P_line = Polyhedron(eqns=[[1,1,1]])\n",
    "P_half_line = Polyhedron(ieqs=[[1,1,0]], eqns=[[-1,0,1]])\n",
    "P_polytope = Polyhedron(vertices=[[1,5,3],[4,8,7],[0,0,0],[-5,1,4]])\n",
    "\n",
    "print(\"minimal faces:\")\n",
    "print(\"P_full_space:\",minimal_faces(P_full_space))\n",
    "print(\"P_half_space:\",minimal_faces(P_half_space))\n",
    "print(\"P_line:\",minimal_faces(P_line))\n",
    "print(\"P_half_line:\",minimal_faces(P_half_line))\n",
    "print(\"P_polytope:\",minimal_faces(P_polytope))"
   ]
  },
  {
   "cell_type": "code",
   "execution_count": 12,
   "metadata": {},
   "outputs": [
    {
     "name": "stdout",
     "output_type": "stream",
     "text": [
      "minimal faces matrix:\n",
      "P_full_space: [array([], dtype=float64)]\n",
      "P_half_space: [array([[1, 0]])]\n",
      "P_line: [array([[ 1,  1],\n",
      "       [-1, -1]])]\n",
      "P_half_line: [array([[ 0,  1],\n",
      "       [ 0, -1],\n",
      "       [ 1,  0]])]\n",
      "P_polytope: [array([[ 17, -19,  26],\n",
      "       [-25,  51, -44],\n",
      "       [ 19, -27,   6]]), array([[ 17, -19,  26],\n",
      "       [-25,  51, -44],\n",
      "       [-11,  -5,  12]]), array([[ 17, -19,  26],\n",
      "       [ 19, -27,   6],\n",
      "       [-11,  -5,  12]]), array([[-25,  51, -44],\n",
      "       [ 19, -27,   6],\n",
      "       [-11,  -5,  12]])]\n",
      "(An equation (-1022.0) x + 0.0 == 0,)\n",
      "(An equation (370.8571429) x + 0.0 == 0,)\n",
      "(An equation (-1291.085714) x + 0.0 == 0,)\n",
      "(An equation (223.271137) x + 0.0 == 0,)\n",
      "(An equation (-1407.44898) x + 0.0 == 0,)\n",
      "(An equation (-234.0) x + 0.0 == 0,)\n"
     ]
    }
   ],
   "source": [
    "def min_matrices_faces(P):\n",
    "    '''\n",
    "    Compute the list of matrix D associated to each minimal face of the polyhedron F = {(D,E)x = f}\n",
    "\n",
    "    :param P: Polyhedron\n",
    "    :param M,c: arrays such that P={Mx <= c}\n",
    "    :return: list of Polyhedron\n",
    "    '''\n",
    "\n",
    "    M,c = H_to_array(P)\n",
    "    min_faces = minimal_faces(P)\n",
    "\n",
    "    l_D = []\n",
    "    for p,_ in min_faces:\n",
    "        D = []\n",
    "        for i in range(len(M)):\n",
    "            l = M[i]\n",
    "            if np.dot(l,np.array(p)) == -c[i]:\n",
    "                D.append(l)\n",
    "        l_D.append(np.array(D))\n",
    "    return l_D\n",
    "\n",
    "def list_among(a,b):\n",
    "    '''\n",
    "    Compute the list of lists of 'a' indices between 0 and b-1\n",
    "\n",
    "    :param a: int\n",
    "    :param b: int\n",
    "    :return: list of list of int\n",
    "    '''\n",
    "\n",
    "    def among(a,b):\n",
    "        '''\n",
    "        Compute the list of lists of at most 'a' indices between 0 and b-1\n",
    "\n",
    "        :param a: int\n",
    "        :param b: int\n",
    "        :return: list of list of int\n",
    "        '''\n",
    "\n",
    "        if a == 0:\n",
    "            return [[]]\n",
    "        elif b == 0:\n",
    "            return [[]]\n",
    "        else:\n",
    "            l1 = list_among(a-1,b-1)\n",
    "            l2 = list_among(a,b-1)\n",
    "            return [l+[b-1] for l in l1] + l2\n",
    "\n",
    "    l = among(a,b)\n",
    "    res = []\n",
    "    for t in l:\n",
    "         if len(t) == a:\n",
    "             res.append(t)\n",
    "    return res\n",
    "\n",
    "\n",
    "def inv_first(M,n):\n",
    "    '''\n",
    "    Compute a submatrix of M of maximal rank\n",
    "\n",
    "    :param M: np.array of np.array\n",
    "    :param n: int, the rank of M\n",
    "    :return: np.array of np.array\n",
    "    '''\n",
    "\n",
    "    for l in list_among(n,len(M[0])):\n",
    "        if n == np.linalg.matrix_rank((M.T[l]).T):\n",
    "            return (M.T[l]).T\n",
    "    print(\"Erreur de calcul\")\n",
    "    assert(False)\n",
    "\n",
    "\n",
    "\n",
    "def get_D(A):\n",
    "    '''\n",
    "    Compute the list of matrices representing the minimal faces of a Polyhedron P = {Ax>=b}\n",
    "\n",
    "    :param A: np.array of np.array\n",
    "    :return: list of arrays\n",
    "    '''\n",
    "\n",
    "    rm = np.linalg.matrix_rank(A)\n",
    "    assert(rm != 0)\n",
    "    l_D = []\n",
    "    for l in list_among(rm,len(A)):\n",
    "        if rm == np.linalg.matrix_rank(A[l]):\n",
    "            G = inv_first(A[l],rm)\n",
    "            Inv = np.linalg.inv(G)\n",
    "            D = np.zeros((np.shape(A)[1],np.shape(A)[0]))\n",
    "            for i in range(len(D)):\n",
    "                i_inv = 0\n",
    "                if i in l:\n",
    "                    for j in range(len(Inv[i_inv])):\n",
    "                        D[i][j] = Inv[i_inv][j]\n",
    "                else:\n",
    "                    if i < len(D[i]):\n",
    "                        D[i][i] = 1\n",
    "                i_inv = i_inv+1\n",
    "            l_D.append(D)\n",
    "\n",
    "    return l_D\n",
    "\n",
    "\n",
    "def qe_polyhedron(P,vx):\n",
    "    '''\n",
    "    Eliminate the variables -which index is not in vx- in the definition of P and returns the equivalent list of polyhedron\n",
    "\n",
    "    :param P: Polyhedron\n",
    "    :param vx: list of int\n",
    "    :return: list of Polyhedron\n",
    "    '''\n",
    "\n",
    "    M,c = H_to_array(P)\n",
    "    A,B = [],[]\n",
    "    for l in range(len(M[0])):\n",
    "        if l in vx:\n",
    "            A.append(M.T[l])\n",
    "        else:\n",
    "            B.append(M.T[l])\n",
    "    A = np.array(A).T\n",
    "    B = -np.array(B).T\n",
    "\n",
    "\n",
    "    # Ax >= By +c\n",
    "    l_D = get_D(A)\n",
    "\n",
    "\n",
    "    # U_D A(D(By+c)) <= By+c\n",
    "\n",
    "\n",
    "    return [array_to_H(A.dot(D.dot(B)) - B, c - A.dot(D.dot(c))) for D in l_D]\n",
    "\n",
    "print(\"minimal faces matrix:\")\n",
    "print(\"P_full_space:\",min_matrices_faces(P_full_space))\n",
    "print(\"P_half_space:\",min_matrices_faces(P_half_space))\n",
    "print(\"P_line:\",min_matrices_faces(P_line))\n",
    "print(\"P_half_line:\",min_matrices_faces(P_half_line))\n",
    "print(\"P_polytope:\",min_matrices_faces(P_polytope))\n",
    "list_among(5,5)\n",
    "for p in qe_polyhedron(P_polytope,[0,2]):\n",
    "    print(p.Hrepresentation())"
   ]
  },
  {
   "cell_type": "code",
   "execution_count": 13,
   "metadata": {},
   "outputs": [
    {
     "name": "stdout",
     "output_type": "stream",
     "text": [
      "()\n",
      "()\n",
      "(An inequality (1) x + 1 >= 0,)\n",
      "(An inequality (-2, 1) x + 0 >= 0, An inequality (7, -9) x + 44 >= 0, An inequality (1, 5) x + 0 >= 0)\n",
      "\n",
      "[(An inequality (1568.0) x + 0.0 >= 0, An inequality (-4900.0) x + 29204.0 >= 0), (An inequality (1568.0) x + 0.0 >= 0, An inequality (-4900.0) x + 29204.0 >= 0), (An inequality (1568.0) x + 0.0 >= 0, An inequality (-4900.0) x + 29204.0 >= 0), (An inequality (564.9411764) x + 0.0 >= 0, An inequality (-564.9411765) x + 2824.705882 >= 0)]\n"
     ]
    }
   ],
   "source": [
    "def fourier_motzkin(P):\n",
    "    '''\n",
    "    Compute the Fourier-Motzkin transformation of a Polyhedron on its last component\n",
    "\n",
    "    :param P: Polyhedron\n",
    "    :return: Polyhedron\n",
    "    '''\n",
    "    \n",
    "    A,b = H_to_array(P)\n",
    "    P = []\n",
    "    for i in range(len(A)):\n",
    "        P.append([b[i]] + list(A[i]))\n",
    "    ieqs = []\n",
    "    deltas_p = []\n",
    "    deltas_m = []\n",
    "    for ieq in P:\n",
    "        if ieq[-1] == 0:\n",
    "            ieqs.append(ieq[:-1])\n",
    "        elif ieq[-1] > 0:\n",
    "            deltas_p.append(ieq)\n",
    "        else:\n",
    "            deltas_m.append(ieq)\n",
    "\n",
    "    for p in deltas_p:\n",
    "        for m in deltas_m:\n",
    "            ieq = []\n",
    "            for i in range(len(p)-1):\n",
    "                ieq.append(p[-1]*m[i]-m[-1]*p[i])\n",
    "            ieqs.append(ieq)\n",
    "    return Polyhedron(ieqs=ieqs)\n",
    "\n",
    "print(fourier_motzkin(P_full_space).Hrepresentation())\n",
    "print(fourier_motzkin(P_line).Hrepresentation())\n",
    "print(fourier_motzkin(P_half_line).Hrepresentation())\n",
    "print(fourier_motzkin(P_polytope).Hrepresentation())\n",
    "print()\n",
    "print([fourier_motzkin(i).Hrepresentation() for i in qe_polyhedron(P_polytope,[0])])"
   ]
  },
  {
   "cell_type": "markdown",
   "metadata": {},
   "source": [
    "# Solving $ \\forall \\exists \\varphi $"
   ]
  },
  {
   "cell_type": "code",
   "execution_count": 14,
   "metadata": {},
   "outputs": [
    {
     "name": "stdout",
     "output_type": "stream",
     "text": [
      "poly valid:\n",
      "P_full_space: None\n",
      "P_half_space: '0' := -2.0\n",
      "P_line: '0' := -2.0\n",
      "'1' := 0.0\n",
      "P_half_line: '0' := -2.0\n",
      "'1' := 2.0\n",
      "P_polytope: '2' := 99/14\n",
      "'0' := 200/49\n",
      "'1' := 793/98\n"
     ]
    }
   ],
   "source": [
    "def poly_valid(P):\n",
    "    '''\n",
    "    Check if the polyhedron is equivalent to TRUE\n",
    "\n",
    "    :param P: Polyhedron\n",
    "    :return: None if P is equivalent to TRUE and y a counter-example otherwise \n",
    "    '''\n",
    "\n",
    "    with Solver() as solver:\n",
    "        solver.add_assertion(Not(sage_to_pysmt(P)))\n",
    "\n",
    "        if solver.solve():\n",
    "            return solver.get_model()\n",
    "        else:\n",
    "            return None\n",
    "\n",
    "print(\"poly valid:\")\n",
    "print(\"P_full_space:\",poly_valid(P_full_space))\n",
    "print(\"P_half_space:\",poly_valid(P_half_space))\n",
    "print(\"P_line:\",poly_valid(P_line))\n",
    "print(\"P_half_line:\",poly_valid(P_half_line))\n",
    "print(\"P_polytope:\",poly_valid(P_polytope))\n"
   ]
  },
  {
   "cell_type": "code",
   "execution_count": 15,
   "metadata": {},
   "outputs": [
    {
     "name": "stdout",
     "output_type": "stream",
     "text": [
      "((x < 0.0) & (x <= y))\n",
      "[A 3-dimensional polyhedron in QQ^3 defined as the convex hull of 1 vertex, 2 rays, 1 line]\n"
     ]
    }
   ],
   "source": [
    "variables = [x,y]\n",
    "formula = And(LT(x,Real(0)),LE(x,y)) #forall y, exists x formula\n",
    "list_ddnf = ddnf(formula,variables)\n",
    "print(formula)\n",
    "print(list_ddnf)\n"
   ]
  },
  {
   "cell_type": "code",
   "execution_count": 16,
   "metadata": {},
   "outputs": [
    {
     "name": "stdout",
     "output_type": "stream",
     "text": [
      "((x < 0.0) & (x <= y))\n"
     ]
    },
    {
     "data": {
      "text/plain": [
       "False"
      ]
     },
     "execution_count": 16,
     "metadata": {},
     "output_type": "execute_result"
    }
   ],
   "source": [
    "def flatten(l):\n",
    "    '''\n",
    "    Transform a 2D list into a 1D list\n",
    "\n",
    "    :param l: list of list\n",
    "    :return: list\n",
    "    '''\n",
    "\n",
    "    res = []\n",
    "    for u in l:\n",
    "        res += u\n",
    "    return res\n",
    "\n",
    "def solve1(formula,vA):\n",
    "    '''\n",
    "    Solve the problem: forall vA, exists vE formula(vA,vE)\n",
    "\n",
    "    :param formula: fNode\n",
    "    :param vA: list of Symbol\n",
    "    :return: boolean\n",
    "    '''\n",
    "\n",
    "    variables = formula.get_free_variables()\n",
    "    vE = []\n",
    "    for v in variables:\n",
    "        if v not in vA:\n",
    "            vE.append(v)\n",
    "\n",
    "    assert(vA != [])\n",
    "    assert(vE != [])\n",
    "\n",
    "    i=0\n",
    "    iA = []\n",
    "    iE = []\n",
    "\n",
    "    for v in variables:\n",
    "        if v in vA:\n",
    "            iA.append(i)\n",
    "        else:\n",
    "            iE.append(i)\n",
    "        i = i+1\n",
    "\n",
    "    # FyEx formula\n",
    "    list_ddnf = ddnf(formula,vA+vE)\n",
    "    # Fy U Ex,d P(d,x,y)\n",
    "    for i in range(len(list_ddnf)):\n",
    "        list_ddnf[i] = qe_polyhedron(list_ddnf[i],iE)\n",
    "        for j in range(len(list_ddnf[i])):\n",
    "            list_ddnf[i][j] = fourier_motzkin(list_ddnf[i][j])\n",
    "    list_ddnf = flatten(list_ddnf)\n",
    "    # Fy U P'(y)\n",
    "    formula = Not(Or([sage_to_pysmt(P) for P in list_ddnf]))\n",
    "    # not Ey not U P'(y)\n",
    "    list_ddnf = ddnf(formula,vA)\n",
    "    # not Ey,d U P''(d,y)\n",
    "    for i in range(len(list_ddnf)):\n",
    "        list_ddnf[i] = qe_polyhedron(list_ddnf[i],iA)\n",
    "\n",
    "        for j in range(len(list_ddnf[i])):\n",
    "            list_ddnf[i][j] = fourier_motzkin(list_ddnf[i][j])\n",
    "    list_ddnf = flatten(list_ddnf)\n",
    "    formula = Or([sage_to_pysmt(P) for P in list_ddnf])\n",
    "\n",
    "    # not U P'''\n",
    "    with Solver() as solver:\n",
    "        solver.add_assertion(Or([sage_to_pysmt(P) for P in list_ddnf]))\n",
    "        # U P'''\n",
    "        return not solver.solve() # not U P''' (~ FyEx fomrula)\n",
    "\n",
    "formula = And(LT(x,Real(0)), LE(x,y))\n",
    "print(formula.serialize())\n",
    "solve1(formula,[x])"
   ]
  },
  {
   "cell_type": "code",
   "execution_count": 17,
   "metadata": {},
   "outputs": [],
   "source": [
    "def solve2(formula,vA):\n",
    "    '''\n",
    "    Solve the problem: forall vA, exists vE formula(vA,vE)\n",
    "\n",
    "    :param formula: fNode\n",
    "    :param vA: list of Symbol\n",
    "    :retrun: boolean\n",
    "    '''\n",
    "\n",
    "    pass"
   ]
  },
  {
   "cell_type": "markdown",
   "metadata": {},
   "source": [
    "# Tests"
   ]
  },
  {
   "cell_type": "markdown",
   "metadata": {},
   "source": [
    "### Generation of formulas"
   ]
  },
  {
   "cell_type": "code",
   "execution_count": 18,
   "metadata": {},
   "outputs": [],
   "source": [
    "from random import randint"
   ]
  },
  {
   "cell_type": "code",
   "execution_count": 19,
   "metadata": {},
   "outputs": [
    {
     "name": "stdout",
     "output_type": "stream",
     "text": [
      "['0', '1', '2', '3', '4']\n"
     ]
    },
    {
     "data": {
      "text/plain": [
       "\"(((! ((('0' <= (('9' * 5.0) + (((-4.0 * 8.0) * 2.0) * -4.0))) & (('1' + 2.0) <= ('2' * -8.0))) & ((! (('2' <= (-8.0 * 8.0)) & ((((((((8.0 * 9.0) * -7.0) + (('1' + '8') * 4.0)) * 0.0) < ((((-6.0 * 5.0) * -10.0) * 9.0) * 10.0)) & ('1' <= '3')) & ((((-3.0 + '5') * -3.0) < 2.0) | ((('9' + ((('4' * -2.0) * -4.0) * -7.0)) + (((('2' + '6') + 10.0) + '2') + 7.0)) < 5.0))) | (-9.0 <= '9')))) | ('6' < '8')))) | (! ((((('3' + '1') <= '3') & ('6' <= ('9' * -7.0))) | (((((((('7' + '3') + ((((-2.0 * -8.0) + '8') * 3.0) + '5')) + ((('8' + ('6' + 2.0)) + 1.0) + ('5' * -5.0))) * -2.0) * 7.0) + ('4' + '8')) + '1') < (((-9.0 * -2.0) * -3.0) * -7.0))) | ((! ((((((((('4' + ('2' + '5')) * 3.0) * -10.0) * 0.0) * -6.0) * 9.0) * 7.0) < ('9' + (((('1' * 8.0) * -10.0) * 10.0) * 5.0))) | ((('1' + '6') <= ('6' + (('0' + '3') + '9'))) | (('1' + '6') <= '0')))) & ((('8' < (('5' * -4.0) + ('0' + ('1' + '7')))) | (! ((1.0 + (('5' + '8') * 5.0)) < ((('9' * -9.0) * 2.0) * -2.0)))) | (! ((('8' + '9') * 2.0) < ('4' * -10.0)))))))) & (((((-1.0 + 9.0) * 9.0) <= ('9' + ('0' + -4.0))) | ((! ((! ((! (('7' <= (('8' * -1.0) * -4.0)) | (('6' + '2') <= '2'))) | ('8' < ('7' + (-6.0 + ('8' + ('2' + '3'))))))) | (! (((('9' <= '4') & ((((((('0' * -1.0) + ('0' * -9.0)) + '9') * -7.0) + (1.0 + (9.0 + '5'))) + (('8' * 1.0) * -6.0)) < (8.0 + ('5' * -6.0)))) & (((((-1.0 * 5.0) + '6') + ('5' + '4')) < (('3' + '2') + '4')) | ((8.0 + ((('8' * -10.0) * 7.0) + ('9' + '0'))) < '8'))) & ((((('7' + 7.0) * 3.0) <= '4') & ('8' < ('0' + (('2' * -5.0) + (('1' + (9.0 * 6.0)) * -8.0))))) & ('2' <= '6')))))) & ((((('7' * 1.0) + '9') + (-6.0 + (4.0 + '6'))) < '4') | (('2' + ('7' * 8.0)) <= '8')))) | (! ((! (('0' * -8.0) < ('9' * 2.0))) | (1.0 < '4')))))\""
      ]
     },
     "execution_count": 19,
     "metadata": {},
     "output_type": "execute_result"
    }
   ],
   "source": [
    "def generate_prop(variables, max_length=10, max_int=10):\n",
    "    if max_length > 0:\n",
    "        op = randint(0,3)\n",
    "        if op == 0:\n",
    "            return Plus(generate_prop(variables, max_length-1, max_int),generate_prop(variables, max_length-1, max_int))\n",
    "        elif op == 1:\n",
    "            return Times(generate_prop(variables,max_length-1,max_int), Real(randint(-max_int,max_int)))\n",
    "        else:\n",
    "            atom = randint(0,3)\n",
    "            if atom == 0:\n",
    "                return Real(randint(-max_int,max_int))\n",
    "            else:\n",
    "                return variables[randint(0,len(variables)-1)]\n",
    "    else:\n",
    "        atom = randint(0,3)\n",
    "        if atom == 0:\n",
    "            return Real(randint(-max_int,max_int))\n",
    "        else:\n",
    "            return variables[randint(0,len(variables)-1)]\n",
    "\n",
    "\n",
    "def generate_ieq(variables, max_length=10, max_int=10):\n",
    "    ieq = randint(0,1)\n",
    "    if ieq == 0:\n",
    "        return LE(generate_prop(variables, max_length, max_int),generate_prop(variables, max_length, max_int))\n",
    "    else:\n",
    "        return LT(generate_prop(variables, max_length, max_int),generate_prop(variables, max_length, max_int))\n",
    "\n",
    "def generate_phi(variables, max_length):\n",
    "    if max_length > 0:\n",
    "        op = randint(0,3)\n",
    "        if op == 0: # And\n",
    "            return And(generate_phi(variables, max_length-1), generate_phi(variables, max_length-1))\n",
    "        elif op == 1: # Or\n",
    "            return Or(generate_phi(variables, max_length-1), generate_phi(variables, max_length-1))\n",
    "        elif op == 2: # Not\n",
    "            return Not(generate_phi(variables, max_length-1))\n",
    "        else: # Prop\n",
    "            v = randint(0,len(variables)-1)\n",
    "            return generate_ieq(variables)\n",
    "    else:\n",
    "        v = randint(0,len(variables)-1)\n",
    "        return generate_ieq(variables)\n",
    "\n",
    "def generate_formula(n=10, max_length=10):\n",
    "    vars = [Symbol(str(s),REAL) for s in range(n)]\n",
    "    vA = vars[:randint(1,len(vars)-1)]\n",
    "    phi = generate_phi(vars,max_length)\n",
    "    while(len(list(set(vA).intersection(set(phi.get_free_variables())))) == 0 or \n",
    "           len(list(set(phi.get_free_variables()).difference(set(vA)))) == 0):\n",
    "        vA = vars[:randint(1,len(vars)-1)]\n",
    "        phi = generate_phi(vars,max_length)\n",
    "    return phi,list(set(vA).intersection(set(phi.get_free_variables())))\n",
    "\n",
    "formula = generate_formula()\n",
    "print(formula[1])\n",
    "formula[0].serialize()"
   ]
  },
  {
   "cell_type": "markdown",
   "metadata": {},
   "source": [
    "### DDNF"
   ]
  },
  {
   "cell_type": "code",
   "execution_count": 20,
   "metadata": {},
   "outputs": [],
   "source": [
    "list_formula = [generate_formula(max_length=3) for _ in range(10)]"
   ]
  },
  {
   "cell_type": "code",
   "execution_count": 21,
   "metadata": {},
   "outputs": [
    {
     "name": "stdout",
     "output_type": "stream",
     "text": [
      "(((! (((((((((('4' * 0.0) * 9.0) + (('1' + ('2' + '9')) + '6')) + '3') + (-10.0 + (-6.0 + ((('5' + '3') * 10.0) + 3.0)))) + ('8' + (0.0 + (((('8' * 6.0) * -5.0) + '0') + ('8' * -7.0))))) * -2.0) + ((10.0 + ((8.0 * 4.0) + '7')) * 0.0)) + '8') <= ('6' * -5.0))) & (! (-2.0 <= ('6' + ('2' + (((10.0 + -8.0) * 10.0) * 5.0)))))) | (! (((('2' * 5.0) * -3.0) < ('8' * -7.0)) | ((((('0' * 4.0) + (('2' * -6.0) * 1.0)) * 9.0) + (('5' * -8.0) + (2.0 * 8.0))) <= '0')))) ['5', '6', '7', '0', '2', '1', '3', '4']\n",
      "[A 11-dimensional polyhedron in QQ^11 defined as the convex hull of 1 vertex, 2 rays, 9 lines, A 6-dimensional polyhedron in QQ^6 defined as the convex hull of 1 vertex, 3 rays, 3 lines, A 11-dimensional polyhedron in QQ^11 defined as the convex hull of 1 vertex, 4 rays, 7 lines]\n",
      "((-5.0 <= '9') & ((! ('0' <= ('7' + '8'))) | (((('7' * -8.0) + '8') <= '6') | ('9' < ('2' + ('1' * 3.0)))))) ['1', '6', '0', '2']\n",
      "[A 5-dimensional polyhedron in QQ^5 defined as the convex hull of 1 vertex, 2 rays, 3 lines, A 7-dimensional polyhedron in QQ^7 defined as the convex hull of 1 vertex, 3 rays, 4 lines, A 8-dimensional polyhedron in QQ^8 defined as the convex hull of 1 vertex, 4 rays, 4 lines]\n",
      "(((('2' < (('4' * 8.0) + 3.0)) | ('9' < (('0' * -7.0) * -10.0))) | (! ((('3' + ('2' + ('5' + '1'))) * -8.0) <= '5'))) & ('0' < '3')) ['1', '3', '0', '2']\n",
      "[A 5-dimensional polyhedron in QQ^5 defined as the convex hull of 1 vertex, 2 rays, 3 lines, A 6-dimensional polyhedron in QQ^6 defined as the convex hull of 1 vertex, 3 rays, 3 lines, A 8-dimensional polyhedron in QQ^8 defined as the convex hull of 1 vertex, 4 rays, 4 lines]\n",
      "(((! (('1' * -1.0) < ('5' * 3.0))) | (! ('2' < '0'))) | ((('2' <= (-9.0 + ((((('7' + (('0' * 1.0) * -2.0)) + (-7.0 + (((('1' * 1.0) + '5') + '9') * 4.0))) + ('6' + ('7' * 5.0))) + (((-5.0 * -7.0) * 7.0) + ('6' + -5.0))) * -3.0))) | ('8' < ((((('8' * -1.0) + ('0' * 4.0)) * -5.0) * 6.0) * 7.0))) & ('8' < '6'))) ['5', '6', '7', '8', '0', '2', '1']\n",
      "[A 4-dimensional polyhedron in QQ^4 defined as the convex hull of 1 vertex, 2 rays, 2 lines, A 9-dimensional polyhedron in QQ^9 defined as the convex hull of 1 vertex, 3 rays, 6 lines, A 9-dimensional polyhedron in QQ^9 defined as the convex hull of 1 vertex, 3 rays, 6 lines, A 9-dimensional polyhedron in QQ^9 defined as the convex hull of 1 vertex, 4 rays, 5 lines, A 9-dimensional polyhedron in QQ^9 defined as the convex hull of 1 vertex, 5 rays, 4 lines, A 9-dimensional polyhedron in QQ^9 defined as the convex hull of 1 vertex, 5 rays, 4 lines, A 9-dimensional polyhedron in QQ^9 defined as the convex hull of 1 vertex, 5 rays, 4 lines, A 9-dimensional polyhedron in QQ^9 defined as the convex hull of 1 vertex, 5 rays, 4 lines, A 9-dimensional polyhedron in QQ^9 defined as the convex hull of 1 vertex, 5 rays, 4 lines, A 9-dimensional polyhedron in QQ^9 defined as the convex hull of 1 vertex, 5 rays, 4 lines, A 9-dimensional polyhedron in QQ^9 defined as the convex hull of 1 vertex, 5 rays, 4 lines, A 9-dimensional polyhedron in QQ^9 defined as the convex hull of 1 vertex, 5 rays, 4 lines, A 9-dimensional polyhedron in QQ^9 defined as the convex hull of 1 vertex, 5 rays, 4 lines]\n",
      "((! ('6' < (5.0 + '9'))) | (((7.0 < '4') & (((('6' + (4.0 * 0.0)) * 10.0) * -6.0) < ((-1.0 * 2.0) + -10.0))) & (! (('3' * 10.0) < ('4' + '1'))))) ['1']\n",
      "[A 3-dimensional polyhedron in QQ^3 defined as the convex hull of 1 vertex, 1 ray, 2 lines, A 6-dimensional polyhedron in QQ^6 defined as the convex hull of 1 vertex, 4 rays, 2 lines]\n",
      "(('9' < '9') & ('5' <= ((7.0 + '1') + '0'))) ['0', '1']\n",
      "[]\n",
      "((('2' + ('3' + '9')) <= ('3' + '5')) & ('0' <= '7')) ['3', '0', '2']\n",
      "[A 7-dimensional polyhedron in QQ^7 defined as the convex hull of 1 vertex, 2 rays, 5 lines]\n",
      "(('9' < ((('7' * 8.0) * -8.0) * 4.0)) & ((((((((6.0 * -7.0) + ('3' + -8.0)) + ('3' * 5.0)) * 7.0) + (-1.0 + ((('7' + '9') + (((('6' + -5.0) + -2.0) * 9.0) * -7.0)) * -8.0))) * -10.0) + (8.0 * 0.0)) <= ((('9' * -9.0) * -10.0) * -2.0))) ['3']\n",
      "[A 5-dimensional polyhedron in QQ^5 defined as the convex hull of 1 vertex, 2 rays, 3 lines]\n",
      "(('2' + ((((((((('0' + '7') + ('3' * -4.0)) * -8.0) * 0.0) * -10.0) + -6.0) * 9.0) * -3.0) * -6.0)) < '6') ['0']\n",
      "[A 6-dimensional polyhedron in QQ^6 defined as the convex hull of 1 vertex, 1 ray, 5 lines]\n",
      "((('3' + 5.0) + ((('7' * 9.0) * 1.0) * -9.0)) <= '2') ['3', '2']\n",
      "[A 4-dimensional polyhedron in QQ^4 defined as the convex hull of 1 vertex, 1 ray, 3 lines]\n"
     ]
    }
   ],
   "source": [
    "for f,vA in list_formula:\n",
    "    print(f.serialize(),vA)\n",
    "    print(ddnf(f,list(f.get_free_variables())))"
   ]
  },
  {
   "cell_type": "markdown",
   "metadata": {},
   "source": [
    "### Solve1"
   ]
  },
  {
   "cell_type": "code",
   "execution_count": 22,
   "metadata": {},
   "outputs": [
    {
     "name": "stdout",
     "output_type": "stream",
     "text": [
      "((x < 0.0) & (x <= y))\n",
      "False\n",
      "True\n"
     ]
    }
   ],
   "source": [
    "formula = And(LT(x,Real(0)), LE(x,y))\n",
    "print(formula.serialize())\n",
    "print(solve1(formula,[x]))\n",
    "print(solve1(formula,[y]))"
   ]
  },
  {
   "cell_type": "code",
   "execution_count": 23,
   "metadata": {},
   "outputs": [
    {
     "name": "stdout",
     "output_type": "stream",
     "text": [
      "((x < 0.0) | ((! (x <= y)) & (((x * 3.0) + y + (2.0 * z)) < 5.0) & (z <= 5.0) & (5.0 <= z)))\n",
      "True\n",
      "True\n"
     ]
    }
   ],
   "source": [
    "formula = Or(LT(x,Real(0)),\n",
    "             And(Not(LE(x,y)),\n",
    "                 LT(Plus(Times(x,Real(3)),y,Times(Real(2),z)),Real(5)),\n",
    "                 LE(z,Real(5)),\n",
    "                 LE(Real(5),z)))\n",
    "print(formula.serialize())\n",
    "print(solve1(formula,[x]))\n",
    "print(solve1(formula,[y]))"
   ]
  },
  {
   "cell_type": "code",
   "execution_count": 24,
   "metadata": {},
   "outputs": [
    {
     "name": "stdout",
     "output_type": "stream",
     "text": [
      "(('5' < 5.0) & ((('3' + (6.0 + '0')) + ((3.0 * -1.0) + '9')) <= ((('4' + -3.0) + '6') + '4'))) ['5', '6', '0', '3', '4']\n",
      "True\n",
      "(! (((((((('4' + ((-2.0 * -2.0) * -4.0)) * -6.0) * 5.0) + ((((7.0 + '0') * 2.0) * -8.0) * -9.0)) * 6.0) * -2.0) * 7.0) <= '2')) ['0']\n",
      "True\n"
     ]
    }
   ],
   "source": [
    "list_formula = [generate_formula(max_length=3) for _ in range(2)]\n",
    "for f,vA in list_formula:\n",
    "    print(f.serialize(),vA)\n",
    "    print(solve1(f,vA))"
   ]
  }
 ],
 "metadata": {
  "kernelspec": {
   "display_name": "Python 3",
   "language": "python",
   "name": "python3"
  },
  "language_info": {
   "codemirror_mode": {
    "name": "ipython",
    "version": 3
   },
   "file_extension": ".py",
   "mimetype": "text/x-python",
   "name": "python",
   "nbconvert_exporter": "python",
   "pygments_lexer": "ipython3",
   "version": "3.12.3"
  }
 },
 "nbformat": 4,
 "nbformat_minor": 2
}
