{
 "cells": [
  {
   "cell_type": "code",
   "execution_count": 1,
   "metadata": {},
   "outputs": [],
   "source": [
    "from pysmt.shortcuts import Not, And, Or, Symbol, FALSE\n",
    "from pysmt.shortcuts import GE, LE, LT, GT, Equals, Plus, Times, Real\n",
    "from pysmt.shortcuts import Solver, Real\n",
    "from pysmt.typing import REAL, INT\n",
    "\n",
    "import numpy as np"
   ]
  },
  {
   "cell_type": "code",
   "execution_count": 2,
   "metadata": {},
   "outputs": [],
   "source": [
    "from sage.all import Polyhedron"
   ]
  },
  {
   "cell_type": "code",
   "execution_count": 3,
   "metadata": {},
   "outputs": [],
   "source": [
    "def pysmt_to_sage(f):\n",
    "    '''\n",
    "    Convert a formula into its corresponding polyhedron in Sage\n",
    "\n",
    "    :param f: fNode \n",
    "    :return: Polyhedron\n",
    "    '''\n",
    "\n",
    "    pass\n",
    "\n",
    "\n",
    "def sage_to_pysmt(P):\n",
    "    '''\n",
    "    Convert a polyhedron in Sage into its corresponding formula for pysmt\n",
    "\n",
    "    :param P: Polyhedron\n",
    "    :return: fNode\n",
    "    '''\n",
    "\n",
    "    pass"
   ]
  },
  {
   "cell_type": "code",
   "execution_count": 4,
   "metadata": {},
   "outputs": [],
   "source": [
    "def inv(l):\n",
    "    '''\n",
    "    Invert each element of a tuple\n",
    "\n",
    "    :param l: a tuple\n",
    "    :return: a tuple\n",
    "    '''\n",
    "\n",
    "    return [-i for i in list(l)]\n",
    "\n",
    "\n",
    "def H_to_array(P):\n",
    "    '''\n",
    "    Convert a polyhedron  P into two arrays A,b\n",
    "    such that P = {x | Ax >= b}\n",
    "\n",
    "    :param P: Polyhedron()\n",
    "    :return: (A=np.array,b=np.array)\n",
    "    '''\n",
    "\n",
    "    H =  P.Hrepresentation()\n",
    "    A = []\n",
    "    b = []\n",
    "    for ieq in H:\n",
    "        if ieq.is_inequality():\n",
    "            A.append(list(ieq.A()))\n",
    "            b.append(ieq.b())\n",
    "        elif ieq.is_equation():\n",
    "            inv(list(ieq.A()))\n",
    "            A.append(list(ieq.A()))\n",
    "            A.append(inv(list(ieq.A())))\n",
    "            b.append(ieq.b())\n",
    "            b.append(-ieq.b())\n",
    "    return (np.array(A),np.array(b))\n",
    "\n",
    "\n",
    "def array_to_H(A,b):\n",
    "    '''\n",
    "    Convert two arrays A,b into a polyhedron P\n",
    "    such that P = {x | Ax >= b}\n",
    "\n",
    "    :param A: np.array\n",
    "    :param b: np.array\n",
    "    :return: Polyhedron()\n",
    "    '''\n",
    "\n",
    "    assert(len(A)==len(b))\n",
    "    return Polyhedron(ieqs=[[b[i]] + list(A[i]) for i in range(len(A))])"
   ]
  },
  {
   "cell_type": "code",
   "execution_count": 5,
   "metadata": {},
   "outputs": [
    {
     "data": {
      "text/plain": [
       "'(! ((! (x <= 3.0)) & (! (y < 1.0)) & (y <= 2.0) & ((! (y < 3.0)) | (y < 2.0))))'"
      ]
     },
     "execution_count": 5,
     "metadata": {},
     "output_type": "execute_result"
    }
   ],
   "source": [
    "x = Symbol(\"x\",REAL)\n",
    "y = Symbol(\"y\",REAL)\n",
    "\n",
    "\n",
    "# formula = Not(And(Not(LE(x,Real(3))), GE(y,Real(1)), LE(y,Real(2)), Or(GE(y,Real(3)), LE(y,Real(2)))))\n",
    "formula = Not(And(Not(LE(x,Real(3))), Not(LT(y,Real(1))), LE(y,Real(2)), Or(Not(LT(y,Real(3))), LT(y,Real(2)))))\n",
    "formula.serialize()"
   ]
  },
  {
   "cell_type": "code",
   "execution_count": 6,
   "metadata": {},
   "outputs": [
    {
     "data": {
      "text/plain": [
       "([4.0], [5/2])"
      ]
     },
     "execution_count": 6,
     "metadata": {},
     "output_type": "execute_result"
    }
   ],
   "source": [
    "def get_subsolution(formula,variables):\n",
    "    '''\n",
    "    Give values for a subset of variables that satisfies the formula\n",
    "\n",
    "    :param formula: FNode\n",
    "    :param variables: list of Symbol\n",
    "    :return: None if the formula is not sat and a list of Real for each variable\n",
    "    '''\n",
    "\n",
    "    model = []\n",
    "    with Solver() as solver:\n",
    "        solver.add_assertion(formula)\n",
    "        solver.solve()\n",
    "        if solver.solve():\n",
    "            for v in variables:\n",
    "                model.append(solver.get_value(v))\n",
    "            return model\n",
    "        else:\n",
    "            return None\n",
    "\n",
    "\n",
    "get_subsolution(formula,[x]), get_subsolution(formula,[y])"
   ]
  },
  {
   "cell_type": "code",
   "execution_count": 7,
   "metadata": {},
   "outputs": [
    {
     "data": {
      "text/plain": [
       "(((! (x <= 3.0)), (! (y < 1.0)), (y <= 2.0), ((! (y < 3.0)) | (y < 2.0))),\n",
       " True,\n",
       " False)"
      ]
     },
     "execution_count": 7,
     "metadata": {},
     "output_type": "execute_result"
    }
   ],
   "source": [
    "list(formula.args())[0].args(), list(formula.args())[0].is_and(), list(formula.args())[0].is_or()"
   ]
  },
  {
   "cell_type": "code",
   "execution_count": 8,
   "metadata": {},
   "outputs": [
    {
     "name": "stdout",
     "output_type": "stream",
     "text": [
      "formula: (! ((! (x <= 3.0)) & (! (y < 1.0)) & (y <= 2.0) & ((! (... < ...)) | (y < 2.0))))\n",
      "nnf: ((x <= 3.0) | (y < 1.0) | (! (y <= 2.0)) | ((y < 3.0) & (! (y < 2.0))))\n"
     ]
    }
   ],
   "source": [
    "def nnf(formula):\n",
    "    '''\n",
    "    Compute the negative normal form of a formula\n",
    "\n",
    "    :param formula: fNode\n",
    "    :return: fNode\n",
    "    '''\n",
    "\n",
    "    if formula.is_and():\n",
    "        return And([nnf(sf) for sf in formula.args()])\n",
    "    elif formula.is_or():\n",
    "        return Or([nnf(sf) for sf in formula.args()])\n",
    "    elif formula.is_not():\n",
    "        nf = list(formula.args())[0]\n",
    "        if nf.is_and():\n",
    "            return Or([nnf(Not(sf)) for sf in nf.args()])\n",
    "        elif nf.is_or():\n",
    "            return And([nnf(Not(sf)) for sf in nf.args()])\n",
    "        elif nf.is_not():\n",
    "            return nnf(list(nf.args())[0])\n",
    "        elif nf.is_le() or nf.is_lt():\n",
    "            return formula\n",
    "        else:\n",
    "            print(\"Error no operator found\")\n",
    "            assert(False)\n",
    "    else:\n",
    "        return formula\n",
    "\n",
    "\n",
    "\n",
    "print(\"formula:\",formula)\n",
    "print(\"nnf:\",nnf(formula))"
   ]
  },
  {
   "cell_type": "code",
   "execution_count": 9,
   "metadata": {},
   "outputs": [
    {
     "name": "stdout",
     "output_type": "stream",
     "text": [
      "((x < 0.0) & ((! (x <= 2.0)) | (! (y <= 2.0)) | (x < 2.0)) & ((y < 2.0) | (y <= 2.0))) [x, y]\n",
      "[-1.0, 0.0]\n"
     ]
    },
    {
     "data": {
      "text/plain": [
       "[(x < 0.0), (x < 2.0), (y < 2.0)]"
      ]
     },
     "execution_count": 9,
     "metadata": {},
     "output_type": "execute_result"
    }
   ],
   "source": [
    "def check(formula, variables=[], model=[]):\n",
    "    '''\n",
    "    Model-check and sat a formula for a subset of variables\n",
    "\n",
    "    :param formula: fNode\n",
    "    :param variables: list of Symbol\n",
    "    :param model: list of Real\n",
    "    :return: bool\n",
    "    '''\n",
    "\n",
    "    assert(len(variables) == len(model))\n",
    "    with Solver() as solver:\n",
    "        solver.add_assertion(formula)\n",
    "        for i in range(len(variables)):\n",
    "            solver.add_assertion(Equals(variables[i],model[i]))\n",
    "        return solver.solve()\n",
    "\n",
    "def get_true_atoms(formula, variables, p):\n",
    "    '''\n",
    "    Compute the atoms that p satisfies in the formula\n",
    "\n",
    "    :param formula: fNode\n",
    "    :param variables: list of Symbol\n",
    "    :param p: list of Real\n",
    "    :return: list of fNode\n",
    "    '''\n",
    "\n",
    "    if formula.is_and():\n",
    "        atoms = []\n",
    "        for sf in formula.args():\n",
    "            rec = get_true_atoms(sf, variables, p)\n",
    "            if rec == []:\n",
    "                return []\n",
    "            else:\n",
    "                atoms += rec\n",
    "        return atoms\n",
    "    elif formula.is_or():\n",
    "        for sf in formula.args():\n",
    "            atoms = get_true_atoms(sf, variables, p)\n",
    "            if atoms != []:\n",
    "                return atoms\n",
    "        return []\n",
    "    elif formula.is_le() or formula.is_lt():\n",
    "        if check(formula, variables, p):\n",
    "            return [formula]\n",
    "        else:\n",
    "            return []\n",
    "    elif formula.is_not():\n",
    "        nf = formula.args()[0]\n",
    "        if nf.is_le() or nf.is_lt():\n",
    "            if check(formula, variables, p):\n",
    "                return [formula]\n",
    "            else:\n",
    "                return []\n",
    "        else:\n",
    "            print(\"Error, formula must be in nnf\")\n",
    "            assert(False)\n",
    "    else:\n",
    "        print(\"Error no operator found\")\n",
    "        assert(False)\n",
    "\n",
    "formula = And(LT(x,Real(0)), Or(Not(LE(x,Real(2))), Not(LE(y,Real(2))), LT(x,Real(2))), Or(LT(y,Real(2)), LE(y,Real(2))))\n",
    "formula = nnf(formula)\n",
    "variables = [x,y]\n",
    "print(formula, variables)\n",
    "print(get_subsolution(formula,variables))\n",
    "get_true_atoms(formula, variables, get_subsolution(formula,variables))"
   ]
  },
  {
   "cell_type": "code",
   "execution_count": 10,
   "metadata": {},
   "outputs": [
    {
     "name": "stdout",
     "output_type": "stream",
     "text": [
      "((((x <= 0.0) & (! (y < 1.0))) | ((x < -2.0) & (y < 1.0))) & ((x <= 0.0) & (! (x <= -5.0)) & (y <= 5.0) & (! (y <= -5.0))))\n"
     ]
    },
    {
     "data": {
      "text/plain": [
       "[[(x < -2.0),\n",
       "  (y < 1.0),\n",
       "  (x <= 0.0),\n",
       "  (! (x <= -5.0)),\n",
       "  (y <= 5.0),\n",
       "  (! (y <= -5.0))],\n",
       " [(x <= 0.0),\n",
       "  (! (y < 1.0)),\n",
       "  (x <= 0.0),\n",
       "  (! (x <= -5.0)),\n",
       "  (y <= 5.0),\n",
       "  (! (y <= -5.0)),\n",
       "  (! (y < 1.0))]]"
      ]
     },
     "execution_count": 10,
     "metadata": {},
     "output_type": "execute_result"
    }
   ],
   "source": [
    "def ddnf(formula, variables):\n",
    "    '''\n",
    "    Compute a set of disjoint polyedra equivalent to the formula\n",
    "\n",
    "    :param formula: fNode\n",
    "    :param variables: list of Symbol\n",
    "    :return: list of Polyhedron\n",
    "    '''\n",
    "\n",
    "    poly = []\n",
    "    while check(formula):\n",
    "        f = nnf(formula)\n",
    "        atoms = get_true_atoms(f, variables, get_subsolution(f,variables))\n",
    "        poly.append(atoms)\n",
    "        formula = And(formula, (Not(And(atoms))))\n",
    "    return poly\n",
    "\n",
    "\n",
    "formula = And(Or(And(LE(x,Real(0)), Not(LT(y,Real(1)))),\n",
    "                 And(LT(x,Real(-2)), LT(y,Real(1)))),\n",
    "              And(LE(x, Real(0)), Not(LE(x, Real(-5))),LE(y, Real(5)), Not(LE(y, Real(-5)))))\n",
    "print(formula.serialize())\n",
    "ddnf(formula,variables)\n"
   ]
  },
  {
   "cell_type": "code",
   "execution_count": 11,
   "metadata": {},
   "outputs": [
    {
     "name": "stdout",
     "output_type": "stream",
     "text": [
      "minimal faces:\n",
      "P_full_space: [[(0, 0), [(0, 1), (1, 0)]]]\n",
      "P_half_space: [[(-1, 0), [(0, 1)]]]\n",
      "P_line: [[(0, -1), [(1, -1)]]]\n",
      "P_half_line: [[(-1, 1), []]]\n",
      "P_polytope: [[(-5, 1, 4), []], [(0, 0, 0), []], [(1, 5, 3), []], [(4, 8, 7), []]]\n"
     ]
    }
   ],
   "source": [
    "def minimal_faces(P):\n",
    "    '''\n",
    "    Compute a representation of the minimal faces of a polyhedron P\n",
    "    :param P: Polyhedron\n",
    "    :return: list of (p=array, l=list of array) with p a point and l a basis of a span\n",
    "    '''\n",
    "\n",
    "    return [[p.vector(), [v.vector() for v in P.lines()]] for p in P.vertices()]\n",
    "\n",
    "P_full_space = Polyhedron(vertices=[[9,41]],lines=[[41,-3],[7,7]])\n",
    "P_half_space = Polyhedron(ieqs=[[1,1,0]])\n",
    "P_line = Polyhedron(eqns=[[1,1,1]])\n",
    "P_half_line = Polyhedron(ieqs=[[1,1,0]], eqns=[[-1,0,1]])\n",
    "P_polytope = Polyhedron(vertices=[[1,5,3],[4,8,7],[0,0,0],[-5,1,4]])\n",
    "\n",
    "print(\"minimal faces:\")\n",
    "print(\"P_full_space:\",minimal_faces(P_full_space))\n",
    "print(\"P_half_space:\",minimal_faces(P_half_space))\n",
    "print(\"P_line:\",minimal_faces(P_line))\n",
    "print(\"P_half_line:\",minimal_faces(P_half_line))\n",
    "print(\"P_polytope:\",minimal_faces(P_polytope))"
   ]
  },
  {
   "cell_type": "code",
   "execution_count": 12,
   "metadata": {},
   "outputs": [
    {
     "data": {
      "text/plain": [
       "'[array_to_H(A.dot(D.dot(B)) - B, c - A.dot(D.dot(c))) for D in l_D]'"
      ]
     },
     "execution_count": 12,
     "metadata": {},
     "output_type": "execute_result"
    }
   ],
   "source": [
    "def min_matrices_faces(P,M,c):\n",
    "    '''\n",
    "    Compute the list matrix D associated to each minimal face of the polyhedron F = {(D,E)x = f}\n",
    "\n",
    "    :param P: Polyhedron\n",
    "    :param M,c: arrays such that P={Mx <= c}\n",
    "    :return: list of Polyhedron\n",
    "    '''\n",
    "\n",
    "    min_faces = minimal_faces(P)\n",
    "\n",
    "    l_D = []\n",
    "    for p,_ in min_faces:\n",
    "        D = []\n",
    "        for i in range(len(M)):\n",
    "            l = M[i]\n",
    "            if np.dot(l,np.array(p)) == c[i]:\n",
    "                D.append(l)\n",
    "        l_D.append(np.array(D))\n",
    "    return l_D\n",
    "\n",
    "def qe_polyhedron(P,vx):\n",
    "    '''\n",
    "    Eliminate the variables -which index is not in vx- in the definition of P and returns the equivalent list of polyhedron\n",
    "\n",
    "    :param P: Polyhedron\n",
    "    :param vx: list of int\n",
    "    :return: list of Polyhedron\n",
    "    '''\n",
    "\n",
    "    M,c = H_to_array(P)\n",
    "    A,B = [],[]\n",
    "    for l in range(len(M)):\n",
    "        if l in vx:\n",
    "            A.append(M.T[l])\n",
    "        else:\n",
    "            B.append(M.T[l])\n",
    "    A = np.array(A).T\n",
    "    B = -np.array(B).T\n",
    "\n",
    "    # Ax <= By +c\n",
    "\n",
    "    l_D = min_matrices_faces(P,M,c)\n",
    "\n",
    "    # U_D A(D(By+c)) <= By+c\n",
    "\n",
    "\n",
    "    return \"[array_to_H(A.dot(D.dot(B)) - B, c - A.dot(D.dot(c))) for D in l_D]\"\n",
    "\n",
    "qe_polyhedron(P_line,[])"
   ]
  },
  {
   "cell_type": "code",
   "execution_count": 13,
   "metadata": {},
   "outputs": [],
   "source": [
    "def poly_valid(P):\n",
    "    '''\n",
    "    Check if the polyhedron is equivalent to TRUE\n",
    "\n",
    "    :param P: Polyhedron\n",
    "    :return: None if P is equivalent to TRUE and y a conter-example otherwise \n",
    "    '''\n",
    "\n",
    "    with Solver as solver:\n",
    "        solver.add_assertion(sage_to_pysmt(P))\n",
    "\n",
    "        if solver.solve():\n",
    "            return solver.get_value()\n",
    "        else:\n",
    "            return None"
   ]
  },
  {
   "cell_type": "code",
   "execution_count": 16,
   "metadata": {},
   "outputs": [],
   "source": [
    "variables = [x,y]\n",
    "formula = And(LT(x,Real(0)),LE(x,y)) #forall y, exists x formula\n",
    "list_ddnf = ddnf(formula,variables)\n",
    "\n",
    "v_quant = [y]\n",
    "v_elim = [x]\n",
    "\n",
    "is_formula_true = False\n",
    "\n",
    "\n",
    "for P in list_ddnf:\n",
    "    list_elim = qe_polyhedron(P,v_elim)\n",
    "    for P_elim in list_elim:\n",
    "        vy = poly_valid(P_elim)\n",
    "        if vy == None:\n",
    "            is_formula_true = True\n",
    "        else:\n",
    "            if not check(formula, v_quant, vy):\n",
    "                is_formula_true = False\n",
    "            else:\n",
    "                formula = And(formula)"
   ]
  }
 ],
 "metadata": {
  "kernelspec": {
   "display_name": "Python 3",
   "language": "python",
   "name": "python3"
  },
  "language_info": {
   "codemirror_mode": {
    "name": "ipython",
    "version": 3
   },
   "file_extension": ".py",
   "mimetype": "text/x-python",
   "name": "python",
   "nbconvert_exporter": "python",
   "pygments_lexer": "ipython3",
   "version": "3.12.3"
  }
 },
 "nbformat": 4,
 "nbformat_minor": 2
}
